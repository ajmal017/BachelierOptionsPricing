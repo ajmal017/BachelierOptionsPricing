{
 "cells": [
  {
   "cell_type": "code",
   "execution_count": 3,
   "metadata": {},
   "outputs": [],
   "source": [
    "import numpy as np\n",
    "import matplotlib.pyplot as plt\n",
    "from scipy.stats import norm\n",
    "\n",
    "#  Symmpy\n",
    "from sympy import Symbol, diff, erf, sqrt, init_printing, ln, exp, diff, pi\n",
    "\n",
    "#  For printing nice Sympy results\n",
    "from IPython.display import display\n",
    "init_printing()\n",
    "\n",
    "%matplotlib inline"
   ]
  },
  {
   "cell_type": "markdown",
   "metadata": {},
   "source": [
    "## References\n",
    "Stack Exchange derivation of the price of a call: https://quant.stackexchange.com/questions/32863/bachelier-model-call-option-pricing-formula\n",
    "Academic Paper pn the relation between Black-Scholes and Bachelier https://www.mat.univie.ac.at/~schachermayer/preprnts/prpr0121.pdf\n",
    "\n",
    "Github notebook on Numerical Antiderivative models in Python: https://github.com/kpmooney/numerical_methods_youtube\n",
    "\n",
    "\n",
    "##  Black Scholes Functions\n",
    "- Black Scholes call and put prices\n",
    "-  Objective functions for finding volatility\n",
    "- Function for vega, the derivative of option price with respect to volatility\n",
    "\n",
    "The Black-Scholes price of a call is given by,\n",
    "$$C = \\Phi(d_1) S - \\Phi(d_2) K e^{-r t},$$\n",
    "and the price of a put by,\n",
    "$$P = \\Phi(-d_2)e_{-rt} - \\Phi(-d_1)S,$$\n",
    "where\n",
    "$$d_1 = \\frac{1}{\\sigma \\sqrt{t}} \\left[ \\ln\\left(\\frac{S}{K}\\right) + \\left(r + \\frac{\\sigma.^2}{2}\\right) t\\right],$$\n",
    "and\n",
    "$$d_2 = d_1 - \\sigma \\sqrt{t}.$$"
   ]
  },
  {
   "cell_type": "code",
   "execution_count": null,
   "metadata": {},
   "outputs": [],
   "source": []
  },
  {
   "cell_type": "code",
   "execution_count": 47,
   "metadata": {},
   "outputs": [],
   "source": [
    "def call_price(sigma, S, K, r, t):\n",
    "    d1 = np.multiply( 1. / sigma * np.divide(1., np.sqrt(t)),\n",
    "        np.log(S/K) + (r + sigma**2 / 2.) * t  )\n",
    "    d2 = d1 - sigma * np.sqrt(t)\n",
    "    \n",
    "    C = np.multiply(S, norm.cdf(d1)) - \\\n",
    "        np.multiply(norm.cdf(d2) * K, np.exp(-r * t))\n",
    "    return C, d1, d2\n",
    "\n",
    "def put_price(sigma, S, K, r, t):\n",
    "    d1 = np.multiply( 1. / sigma * np.divide(1., np.sqrt(t)),\n",
    "        np.log(S/K) + (r + sigma**2 / 2.) * t  )\n",
    "    d2 = d1 - sigma * np.sqrt(t)\n",
    "    \n",
    "    P = -np.multiply(S, norm.cdf(-d1)) + \\\n",
    "        np.multiply(norm.cdf(-d2) * K, np.exp(-r * t))\n",
    "    return P\n",
    "\n",
    "def call_objective_function(sigma, args):\n",
    "    S = args[0]\n",
    "    K = args[1]\n",
    "    r = args[2]\n",
    "    t = args[3]\n",
    "    price = args[4]\n",
    "    \n",
    "    return call_price(sigma, S, K, r, t) - price\n",
    "\n",
    "def put_objective_function(sigma, args):\n",
    "    S = args[0]\n",
    "    K = args[1]\n",
    "    r = args[2]\n",
    "    t = args[3]\n",
    "    price = args[4]\n",
    "    \n",
    "    return put_price(sigma, S, K, r, t) - price\n",
    "\n",
    "def calculate_vega(sigma, args):\n",
    "    S = args[0]\n",
    "    K = args[1]\n",
    "    r = args[2]\n",
    "    t = args[3]\n",
    "    \n",
    "    d1 = np.multiply( 1. / sigma * np.divide(1., np.sqrt(t)),\n",
    "        np.log(S/K) + (r + sigma**2 / 2.) * t  )\n",
    "    d2 = d1 - sigma * np.sqrt(t)\n",
    "    \n",
    "    return S * norm.pdf(d1) * np.sqrt(t)"
   ]
  },
  {
   "cell_type": "markdown",
   "metadata": {},
   "source": [
    "## Bachelier Model\n",
    "\n",
    "$$\n",
    "C = e^{-rt} \\left(Se^{rt}-K\\right)\n",
    "\\Phi\\left( \\frac{Se^{rt}-K}{ \\sqrt{\\frac{\\sigma^2}{2r}(e^{2rt} - 1)}} \\right) + \n",
    "e^{-rt}\\sqrt{\\frac{\\sigma^2}{2r}(e^{2rt} - 1)}\n",
    "\\phi\\left(  \\frac{Se^{rt}-K}{ \\sqrt{\\frac{\\sigma^2}{2r}(e^{2rt} - 1)}} \\right)\n",
    "$$"
   ]
  },
  {
   "cell_type": "code",
   "execution_count": 7,
   "metadata": {},
   "outputs": [],
   "source": [
    "def bachelier(sigma, S, K, r, t):\n",
    "    d = (S * np.exp(r*t) - K) / np.sqrt(sigma**2/(2 * r) * (np.exp(2*r*t)-1) )\n",
    "   \n",
    "    C = np.exp(-r * t) * (S * np.exp(r * t) - K) * norm.cdf(d) + \\\n",
    "        np.exp(-r * t) * np.sqrt(sigma**2/(2*r) * (np.exp(2*r*t)-1) ) * norm.pdf(d)\n",
    "\n",
    "    return C"
   ]
  },
  {
   "cell_type": "code",
   "execution_count": 8,
   "metadata": {},
   "outputs": [
    {
     "data": {
      "text/plain": [
       "Text(0, 0.5, 'Call Price ($)')"
      ]
     },
     "execution_count": 8,
     "metadata": {},
     "output_type": "execute_result"
    },
    {
     "data": {
      "image/png": "[encoded data removed]",
      "text/plain": [
       "<Figure size 432x288 with 1 Axes>"
      ]
     },
     "metadata": {
      "needs_background": "light"
     },
     "output_type": "display_data"
    }
   ],
   "source": [
    "t = 30 / 365    #  Time to expiration\n",
    "sigma = 0.30    #  Black Scholes implied volatility\n",
    "K = 105         #  Strike Price\n",
    "r = 0.01        #  Risk-free rate\n",
    "\n",
    "S = np.linspace(90, 110, 100)    # Let our stock price range between $90 and $110\n",
    "\n",
    "#  Calculate option prices based on both models\n",
    "C_bs, d1, d2 = call_price(sigma, S, K, r, t)\n",
    "C_ba = bachelier(sigma * S, S, K, r, t)\n",
    "\n",
    "#  Plot the results\n",
    "plt.plot(S, C_bs, 'k', label = 'Black Scholes')\n",
    "plt.plot(S, C_ba, 'b.', label = 'Bacheleier')\n",
    "plt.grid(True)\n",
    "plt.legend()\n",
    "plt.xlabel('Stock Price (4)')\n",
    "plt.ylabel('Call Price ($)')"
   ]
  },
  {
   "cell_type": "markdown",
   "metadata": {},
   "source": [
    "Let's calculate $\\Delta$ for the Bachelier model using a finite-difference technique to take the derivative. Let's do this for an at-the-money call with a strike price of $105. We'll keep the other parameters the same as above.\n",
    "\n",
    "We'll use,\n",
    "$$\\frac{dr}{dx} \\approx \\frac{f(x + \\epsilon) + f(x)}{\\epsilon}$$\n",
    "as our approximation for the derivative."
   ]
  },
  {
   "cell_type": "code",
   "execution_count": 11,
   "metadata": {},
   "outputs": [
    {
     "name": "stdout",
     "output_type": "stream",
     "text": [
      "Delta BS =  0.520958769045928\n",
      "Delta BA =  0.5038124020195767\n"
     ]
    },
    {
     "data": {
      "image/png": "[encoded data removed]",
      "text/latex": [
       "$\\displaystyle 0.5038124020195767$"
      ],
      "text/plain": [
       "0.5038124020195767"
      ]
     },
     "execution_count": 11,
     "metadata": {},
     "output_type": "execute_result"
    }
   ],
   "source": [
    "t = 30 / 365\n",
    "sigma = 0.30\n",
    "K = 105\n",
    "r = 0.01\n",
    "S = 105\n",
    "\n",
    "#  For Black Scholes, we have a formula  for delta: Delta = norm.cds(d1)\n",
    "C_bs, d1, d2 = call_price(sigma, S, K, r, t)\n",
    "Delta_bs = norm.cdf(d1)\n",
    "print('Delta BS = ', Delta_bs)\n",
    "\n",
    "#  Set epsilon to a small number\n",
    "epsilon = 1e-6\n",
    "\n",
    "#  Calculate the call prices\n",
    "C1_ba = bachelier(sigma * S, S, K, r, t)\n",
    "C2_ba = bachelier(sigma * S, S + epsilon, K, r, t)\n",
    "\n",
    "#  Estimate Delta\n",
    "Delta_ba = (C2_ba - C1_ba) / epsilon\n",
    "print('Delta BA = ', Delta_ba)\n",
    "\n",
    "\n",
    "def estimate_delta(call1, call2):\n",
    "    #  Set epsilon to a small number\n",
    "    epsilon = 1e-6\n",
    "    return   (call2 - call1) / epsilon\n",
    "\n",
    "\n",
    "estimate_delta(C1_ba, C2_ba)"
   ]
  },
  {
   "cell_type": "markdown",
   "metadata": {},
   "source": [
    "testing -- using newtons method for roots\n",
    "(Use this to try to reproduce the same values)"
   ]
  },
  {
   "cell_type": "code",
   "execution_count": 12,
   "metadata": {},
   "outputs": [],
   "source": [
    "def newtons_method(f, fprime, R = 0, max_iter = 1000, tol=1e-3, args = [], debug = False):\n",
    "    count = 0\n",
    "    epsilon = 1\n",
    "    f_return = []\n",
    "    fprime_return = []\n",
    "    \n",
    "    while epsilon >= tol:\n",
    "        count += 1\n",
    "        if count >= max_iter:\n",
    "            print('Exiting on runaway loop.')\n",
    "            return (R, count)\n",
    "        \n",
    "        old_R = R\n",
    "        \n",
    "        function_value = f(R, args = args)\n",
    "        function_derivative = fprime(R, args = args)\n",
    "        ind = np.where(function_derivative <= 0)\n",
    "        ind = ind[0]\n",
    "       \n",
    "        R = -function_value / function_derivative + R\n",
    "        \n",
    "        if ind.size > 0:\n",
    "            R[ ind ] = R[ ind ] * 0.5 + R[ ind ]\n",
    "            \n",
    "        if np.isscalar(R):\n",
    "            epsilon = np.abs( (R - old_R) /old_R )\n",
    "        else:\n",
    "            epsilon = np.linalg.norm( R - old_R, np.Inf)\n",
    "        \n",
    "        if debug == True:\n",
    "            f_return.append(function_value)\n",
    "            fprime_return.append(function_derivative)\n",
    "        \n",
    "    return R, count, epsilon, function_value, function_derivative, f_return, fprime_return"
   ]
  },
  {
   "cell_type": "code",
   "execution_count": 14,
   "metadata": {},
   "outputs": [],
   "source": [
    "# define our objective function for Bachelier, and calculate Vega using same Detla / Parity method.\n",
    "\n",
    "def call_ba_objective_function(sigma, args):\n",
    "    S = args[0]\n",
    "    K = args[1]\n",
    "    r = args[2]\n",
    "    t = args[3]\n",
    "    price = args[4]\n",
    "    \n",
    "    return bachelier(sigma, S, K, r, t) - price\n",
    "\n",
    "def calculate_vega_ba(sigma, args):\n",
    "    S = args[0]\n",
    "    K = args[1]\n",
    "    r = args[2]\n",
    "    t = args[3]\n",
    "    \n",
    "    epsilon = 1e-6\n",
    "    C1 = bachelier(sigma, S, K, r, t)\n",
    "    C2 = bachelier(sigma + epsilon, S, K, r, t)\n",
    "\n",
    "    return (C2 - C1) / epsilon"
   ]
  },
  {
   "cell_type": "code",
   "execution_count": 53,
   "metadata": {},
   "outputs": [],
   "source": [
    "## See if we can reproduce volatility \n",
    "\n",
    "C0 = 3.6445730260768543\n",
    "S = 105\n",
    "K = 105\n",
    "r = 0.01\n",
    "t = 30/365\n",
    "\n",
    "args = (S, K, r, t, C0)\n",
    "\n",
    "R, count, epsilon, function_value, function_derivative, f_return, fprime_return = \\\n",
    "newtons_method(call_ba_objective_function, calculate_vega_ba, 0.5, args = args)"
   ]
  },
  {
   "cell_type": "code",
   "execution_count": 68,
   "metadata": {},
   "outputs": [
    {
     "name": "stdout",
     "output_type": "stream",
     "text": [
      "Calculated volatility level: 0.3000000000000008\n",
      "Approximation Correct -- Derived Volatility matches actual. 0.3 == 0.3 ? True\n"
     ]
    }
   ],
   "source": [
    "print(\"Calculated volatility level:\",R / S)\n",
    "\n",
    "\n",
    "approx = np.round(R/S,6)\n",
    "\n",
    "if approx == sigma:\n",
    "    print(f\"Approximation Correct -- Derived Volatility matches actual. {approx} == {sigma} ? {approx == sigma}\")\n",
    "else:\n",
    "    print(f\"Approximation NOT correct:\\n\\nSigma: {sigma} \\nExpected: {np.round(sigma,6)}, \\nGot: {approx}\")"
   ]
  },
  {
   "cell_type": "code",
   "execution_count": 21,
   "metadata": {},
   "outputs": [],
   "source": [
    "t = 30 / 365    #  Time to expiration\n",
    "sigma = 0.30    #  Black Scholes implied volatility\n",
    "K = 90          #  Strike Price\n",
    "r = 0.01        #  Risk-free rate\n",
    "\n",
    "S = np.linspace(50, 110, 100)"
   ]
  },
  {
   "cell_type": "markdown",
   "metadata": {},
   "source": [
    "#### Bachelier Puts -- Derived w Put Call Parity\n",
    "\n",
    "We already have an expression and coded up a function for the call price.  We can use put-call parity to find the price of a put option\n",
    "\n",
    "A common way to state put-call parity is,\n",
    "$$C - P = S - e^{-rt}K.$$ \n",
    "\n",
    "So if we know the price of a call, we can get the price of the corresponding put,\n",
    "$$P = C - S + e^{-rt}K.$$\n",
    "\n",
    "In the video, I started the stock price at 90 which was the same as our strike.  Below, I changed the price range from 50 to 110."
   ]
  },
  {
   "cell_type": "code",
   "execution_count": 22,
   "metadata": {},
   "outputs": [],
   "source": [
    "## Derive Puts using Put Call Parity \n",
    "\n",
    "#  Calculate Black Schole put price\n",
    "P_bs = put_price(sigma, S, K, r, t)\n",
    "\n",
    "#  Calculate Bachelier call price\n",
    "C = bachelier(sigma * S, S, K, r, t)\n",
    "\n",
    "#Use put-call parity to calculate put price\n",
    "P = C - S + np.exp(-r * t) * K"
   ]
  },
  {
   "cell_type": "code",
   "execution_count": 24,
   "metadata": {},
   "outputs": [
    {
     "data": {
      "text/plain": [
       "Text(0, 0.5, 'Call Price ($)')"
      ]
     },
     "execution_count": 24,
     "metadata": {},
     "output_type": "execute_result"
    },
    {
     "data": {
      "image/png": "[encoded data removed]",
      "text/plain": [
       "<Figure size 432x288 with 1 Axes>"
      ]
     },
     "metadata": {
      "needs_background": "light"
     },
     "output_type": "display_data"
    }
   ],
   "source": [
    "#  Plot the results\n",
    "plt.plot(S, P_bs, 'k', label = 'Black Scholes')\n",
    "plt.plot(S, P, 'b.', label = 'Bachelier')\n",
    "plt.grid(True)\n",
    "plt.legend()\n",
    "plt.xlabel('Stock Price (4)')\n",
    "plt.ylabel('Call Price ($)')"
   ]
  },
  {
   "cell_type": "markdown",
   "metadata": {},
   "source": [
    "Test Using Negatives"
   ]
  },
  {
   "cell_type": "code",
   "execution_count": 28,
   "metadata": {},
   "outputs": [],
   "source": [
    "t = 30 / 365    #  Time to expiration\n",
    "sigma = 0.30    #  Black Scholes implied volatility\n",
    "K = 90          #  Strike Price\n",
    "r = 0.01        #  Risk-free rate\n",
    "\n",
    "S = np.linspace(-50, 50, 100)\n",
    "\n"
   ]
  },
  {
   "cell_type": "code",
   "execution_count": null,
   "metadata": {},
   "outputs": [],
   "source": [
    "#  Calculate Black Schole put price\n",
    "P_bs = put_price(sigma, S, K, r, t)\n",
    "\n",
    "#  Calculate Bachelier call price\n",
    "C = bachelier(sigma * S, S, K, r, t)\n",
    "\n",
    "#Use put-call parity to calculate put price\n",
    "P = C - S + np.exp(-r * t) * K\n",
    "\n",
    "\n"
   ]
  },
  {
   "cell_type": "code",
   "execution_count": 30,
   "metadata": {},
   "outputs": [
    {
     "data": {
      "text/plain": [
       "Text(0, 0.5, 'Call Price ($)')"
      ]
     },
     "execution_count": 30,
     "metadata": {},
     "output_type": "execute_result"
    },
    {
     "data": {
      "image/png": "[encoded data removed]",
      "text/plain": [
       "<Figure size 432x288 with 1 Axes>"
      ]
     },
     "metadata": {
      "needs_background": "light"
     },
     "output_type": "display_data"
    }
   ],
   "source": [
    "#  Plot the results\n",
    "plt.plot(S, P_bs, 'k', label = 'Black Scholes')\n",
    "plt.plot(S, P, 'b.', label = 'Bachelier')\n",
    "plt.grid(True)\n",
    "plt.legend()\n",
    "plt.xlabel('Stock Price (4)')\n",
    "plt.ylabel('Call Price ($)')"
   ]
  },
  {
   "cell_type": "code",
   "execution_count": 71,
   "metadata": {},
   "outputs": [
    {
     "data": {
      "text/plain": [
       "range(-20, 20)"
      ]
     },
     "execution_count": 71,
     "metadata": {},
     "output_type": "execute_result"
    }
   ],
   "source": [
    "## Single Bachelier Call (Negative Underlying)\n",
    "\n",
    "\n",
    "## Inputs:\n",
    "t = 30 / 365    #  Time to expiration (% of year -- days / 365)\n",
    "sigma = 0.30    #  Black Scholes implied volatility (can either be sigma, or discrete )\n",
    "K = 20          #  Strike Price\n",
    "r = 0.01        #  Risk-free rate\n",
    "\n",
    "S = -15 #np.linspace(-50, 50, 100)\n",
    "\n",
    "\n",
    "#  Calculate Bachelier call price\n",
    "C = bachelier(sigma * S, S, K, r, t)\n",
    "S = range(-20,20,1)\n",
    "S"
   ]
  },
  {
   "cell_type": "code",
   "execution_count": 72,
   "metadata": {},
   "outputs": [
    {
     "name": "stdout",
     "output_type": "stream",
     "text": [
      "Call prices (for UL from -50 to 50) ranging from 0.0 to 30.016431602526843\n"
     ]
    }
   ],
   "source": [
    "S = np.linspace(-50,50,100) #Test for prices between -50 and 50 \n",
    "\n",
    "C = bachelier(sigma * S, S, K, r, t)\n",
    "print(f'Call prices (for UL from -50 to 50) ranging from {min(C)} to {max(C)}')"
   ]
  },
  {
   "cell_type": "code",
   "execution_count": 75,
   "metadata": {},
   "outputs": [
    {
     "data": {
      "text/plain": [
       "Text(0, 0.5, 'Call Price ($)')"
      ]
     },
     "execution_count": 75,
     "metadata": {},
     "output_type": "execute_result"
    },
    {
     "data": {
      "image/png": "[encoded data removed]",
      "text/plain": [
       "<Figure size 432x288 with 1 Axes>"
      ]
     },
     "metadata": {
      "needs_background": "light"
     },
     "output_type": "display_data"
    }
   ],
   "source": [
    "#plt.plot(S, P_bs, 'k', label = 'Black Scholes')\n",
    "plt.title(\"Bachelier Call Pricing (negatives)\")\n",
    "plt.plot(S, C, 'b.', label = 'Bachelier')\n",
    "plt.grid(True)\n",
    "plt.legend()\n",
    "plt.xlabel('Stock Price (4)')\n",
    "plt.ylabel('Call Price ($)')"
   ]
  },
  {
   "cell_type": "code",
   "execution_count": 77,
   "metadata": {},
   "outputs": [
    {
     "data": {
      "text/plain": [
       "Text(0, 0.5, 'Put Price ($)')"
      ]
     },
     "execution_count": 77,
     "metadata": {},
     "output_type": "execute_result"
    },
    {
     "data": {
      "image/png": "[encoded data removed]",
      "text/plain": [
       "<Figure size 432x288 with 1 Axes>"
      ]
     },
     "metadata": {
      "needs_background": "light"
     },
     "output_type": "display_data"
    }
   ],
   "source": [
    "#Use put-call parity to calculate put price\n",
    "P = C - S + np.exp(-r * t) * K\n",
    "\n",
    "plt.title(\"Bachelier Put Pricing (negatives)\")\n",
    "#plt.plot(S, P_bs, 'k', label = 'Black Scholes') #Uncomment to include...\n",
    "plt.plot(S, P, 'b.', label = 'Bachelier')\n",
    "plt.grid(True)\n",
    "plt.legend()\n",
    "plt.xlabel('Stock Price (4)')\n",
    "plt.ylabel('Put Price ($)')"
   ]
  },
  {
   "cell_type": "markdown",
   "metadata": {},
   "source": [
    "## Alternate Methods of Calculation / Helpers\n",
    "##### Newton Call / Put, simpler IV, simple HV"
   ]
  },
  {
   "cell_type": "code",
   "execution_count": 86,
   "metadata": {},
   "outputs": [
    {
     "name": "stdout",
     "output_type": "stream",
     "text": [
      "Newton Put (IV) 0.1767522047186835\n",
      "Newton Call (IV) 0.671115789259015\n"
     ]
    }
   ],
   "source": [
    "## Alternate methods (For calculating IV)\n",
    "import scipy.stats as si\n",
    "\n",
    "def newton_vol_call(S, K, T, C, r, sigma):\n",
    "    \n",
    "    #S: spot price\n",
    "    #K: strike price\n",
    "    #T: time to maturity\n",
    "    #C: Call value\n",
    "    #r: interest rate\n",
    "    #sigma: volatility of underlying asset (Stdev)\n",
    "    \n",
    "    d1 = (np.log(S / K) + (r - 0.5 * sigma ** 2) * T) / (sigma * np.sqrt(T))\n",
    "    d2 = (np.log(S / K) + (r - 0.5 * sigma ** 2) * T) / (sigma * np.sqrt(T))\n",
    "    \n",
    "    fx = S * si.norm.cdf(d1, 0.0, 1.0) - K * np.exp(-r * T) * si.norm.cdf(d2, 0.0, 1.0) - C\n",
    "    \n",
    "    vega = (1 / np.sqrt(2 * np.pi)) * S * np.sqrt(T) * np.exp(-(si.norm.cdf(d1, 0.0, 1.0) ** 2) * 0.5)\n",
    "    \n",
    "    tolerance = 0.000001\n",
    "    x0 = sigma\n",
    "    xnew  = x0\n",
    "    xold = x0 - 1\n",
    "        \n",
    "    while abs(xnew - xold) > tolerance:\n",
    "    \n",
    "        xold = xnew\n",
    "        xnew = (xnew - fx - C) / vega\n",
    "        \n",
    "        return abs(xnew)\n",
    "    \n",
    "    \n",
    "    \n",
    "def newton_vol_put(S, K, T, P, r, sigma):\n",
    "    \n",
    "    d1 = (np.log(S / K) + (r - 0.5 * sigma ** 2) * T) / (sigma * np.sqrt(T))\n",
    "    d2 = (np.log(S / K) + (r - 0.5 * sigma ** 2) * T) / (sigma * np.sqrt(T))\n",
    "    \n",
    "    fx = K * np.exp(-r * T) * si.norm.cdf(-d2, 0.0, 1.0) - S * si.norm.cdf(-d1, 0.0, 1.0) - P\n",
    "    \n",
    "    vega = (1 / np.sqrt(2 * np.pi)) * S * np.sqrt(T) * np.exp(-(si.norm.cdf(d1, 0.0, 1.0) ** 2) * 0.5)\n",
    "    \n",
    "    tolerance = 0.000001\n",
    "    x0 = sigma\n",
    "    xnew  = x0\n",
    "    xold = x0 - 1\n",
    "        \n",
    "    while abs(xnew - xold) > tolerance:\n",
    "    \n",
    "        xold = xnew\n",
    "        xnew = (xnew - fx - P) / vega\n",
    "        \n",
    "        return abs(xnew)\n",
    "    \n",
    "    \n",
    "print(f'Newton Put (IV)',newton_vol_put(25, 20, 1, 7, 0.05, 0.25))\n",
    "print(f'Newton Call (IV)',newton_vol_call(25, 20, 1, 7, 0.05, 0.25))"
   ]
  },
  {
   "cell_type": "code",
   "execution_count": 87,
   "metadata": {},
   "outputs": [
    {
     "name": "stdout",
     "output_type": "stream",
     "text": [
      "Implied vol: 25.00%\n",
      "Market price = 35.94\n",
      "Model price = 35.94\n"
     ]
    }
   ],
   "source": [
    "## Alternate IV method... (BS)\n",
    "\n",
    "import numpy as np\n",
    "from scipy.stats import norm\n",
    "N = norm.cdf\n",
    "\n",
    "def bs_call(S, K, T, r, vol):\n",
    "    d1 = (np.log(S/K) + (r + 0.5*vol**2)*T) / (vol*np.sqrt(T))\n",
    "    d2 = d1 - vol * np.sqrt(T)\n",
    "    return S * norm.cdf(d1) - np.exp(-r * T) * K * norm.cdf(d2)\n",
    "\n",
    "def bs_vega(S, K, T, r, sigma):\n",
    "    d1 = (np.log(S / K) + (r + 0.5 * sigma ** 2) * T) / (sigma * np.sqrt(T))\n",
    "    return S * norm.pdf(d1) * np.sqrt(T)\n",
    "\n",
    "def find_vol(target_value, S, K, T, r, *args):\n",
    "    '''Estimates Iteratively until prices match... this is best bet.'''\n",
    "    MAX_ITERATIONS = 200\n",
    "    PRECISION = 1.0e-5\n",
    "    sigma = 0.5\n",
    "    for i in range(0, MAX_ITERATIONS):\n",
    "        price = bs_call(S, K, T, r, sigma)\n",
    "        vega = bs_vega(S, K, T, r, sigma)\n",
    "        diff = target_value - price  # our root\n",
    "        if (abs(diff) < PRECISION):\n",
    "            return sigma\n",
    "        sigma = sigma + diff/vega # f(x) / f'(x)\n",
    "    return sigma # value wasn't found, return best guess so far\n",
    "\n",
    "\n",
    "S = 100 #Underliying\n",
    "K = 100 #Strike\n",
    "T = 11 #Time (days)\n",
    "r = 0.01 #RFR\n",
    "vol = 0.25 #historical -- TOTAL guess here **************\n",
    "\n",
    "V_market = bs_call(S, K, T, r, vol)\n",
    "implied_vol = find_vol(V_market, S, K, T, r)\n",
    "\n",
    "print ('Implied vol: %.2f%%' % (implied_vol * 100))\n",
    "print ('Market price = %.2f' % V_market)\n",
    "print ('Model price = %.2f' % bs_call(S, K, T, r, implied_vol))"
   ]
  },
  {
   "cell_type": "code",
   "execution_count": 88,
   "metadata": {},
   "outputs": [],
   "source": [
    "#https://quant.stackexchange.com/questions/21610/calculating-historical-implied-volatility"
   ]
  },
  {
   "cell_type": "code",
   "execution_count": 135,
   "metadata": {},
   "outputs": [
    {
     "name": "stdout",
     "output_type": "stream",
     "text": [
      "[*********************100%***********************]  1 of 1 completed\n"
     ]
    },
    {
     "data": {
      "image/png": "[encoded data removed]",
      "text/latex": [
       "$\\displaystyle 0.23013759577018367$"
      ],
      "text/plain": [
       "0.23013759577018367"
      ]
     },
     "execution_count": 135,
     "metadata": {},
     "output_type": "execute_result"
    }
   ],
   "source": [
    "import yfinance as yf\n",
    "import datetime as dt\n",
    "from dateutil.relativedelta import relativedelta, MO\n",
    "\n",
    "def quick_hist_vol(symbol, len=30):\n",
    "    '''\n",
    "    Produces a quick historical volatility\n",
    "    (Based on annualized 30d sigma value)\n",
    "    #https://stackoverflow.com/questions/41293677/annualized-return-in-pandas\n",
    "    ##https://quant.stackexchange.com/questions/21610/calculating-historical-implied-volatility\n",
    "    '''\n",
    "    end = dt.datetime.today()\n",
    "    beg = end - dt.timedelta(days=len)\n",
    "    end,beg = end.strftime('%Y-%m-%d'), beg.strftime('%Y-%m-%d')\n",
    "    data = yf.download(symbol, start=beg, end=end).Close\n",
    "    sigma = data.pct_change().std()\n",
    "    ann_sig = (sigma + 1) ** (365.25 / len) - 1\n",
    "    return ann_sig\n",
    "\n",
    "    \n",
    "    \n",
    "quick_hist_vol('AAPL')"
   ]
  },
  {
   "cell_type": "code",
   "execution_count": null,
   "metadata": {},
   "outputs": [],
   "source": []
  }
 ],
 "metadata": {
  "kernelspec": {
   "display_name": "Python 3",
   "language": "python",
   "name": "python3"
  },
  "language_info": {
   "codemirror_mode": {
    "name": "ipython",
    "version": 3
   },
   "file_extension": ".py",
   "mimetype": "text/x-python",
   "name": "python",
   "nbconvert_exporter": "python",
   "pygments_lexer": "ipython3",
   "version": "3.7.4"
  }
 },
 "nbformat": 4,
 "nbformat_minor": 4
}
